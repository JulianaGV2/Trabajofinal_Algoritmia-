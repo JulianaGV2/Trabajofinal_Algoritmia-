{
  "cells": [
    {
      "cell_type": "markdown",
      "metadata": {
        "id": "view-in-github",
        "colab_type": "text"
      },
      "source": [
        "<a href=\"https://colab.research.google.com/github/JulianaGV2/Trabajofinal_Algoritmia-/blob/main/Copy_of_Proyecto_parte1_.ipynb\" target=\"_parent\"><img src=\"https://colab.research.google.com/assets/colab-badge.svg\" alt=\"Open In Colab\"/></a>"
      ]
    },
    {
      "cell_type": "markdown",
      "source": [
        "# **Enunciado:**\n",
        "\n",
        "Proyecto: Rescatemos a las Abejas del Valle Floral\n",
        "\n",
        "En una región llamada el \"Valle Floral\", se ha desatado una plaga misteriosa que afecta a las abejas. Un parásito conocido como \"Aethina tumida\" o \"Escarabajo de la colmena\" ha evolucionado y se ha vuelto capaz de debilitar y destruir las colonias de abejas, poniendo en peligro la polinización y la producción de miel en la región.\n",
        "\n",
        "El gobierno de la región ha recurrido a un grupo de jóvenes programadores para crear un simulador que les permita experimentar con diferentes estrategias para controlar la propagación de los escarabajos de la colmena y salvar a las abejas del Valle Floral.\n",
        "\n",
        "A) Prototipo incompleto: Un equipo de programadores comenzó a desarrollar el\n",
        "simulador, pero renunciaron antes de completarlo. El código dejado por ese equipo se presenta a continuación. Su tarea es reutilizar y completar este código para crear un simulador funcional.\n",
        "\n",
        "def mostrar(colmenas):\n",
        "\n",
        "print(\"--Estado de las colmenas en el Valle Floral--\")\n",
        "\n",
        "for i, cantidad in enumerate(colmenas):\n",
        "\n",
        "print(f\"Colmena {i + 1}: {cantidad} abejas\")\n",
        "\n",
        "def fumigar(colmenas):\n",
        "\n",
        "colmenaAFumigar = int(input(\"Ingrese el número de la colmena a fumigar (1, 2, 3, ...):\"))\n",
        "colmenas[colmenaAFumigar - 1] = max(0, colmenas[colmenaAFumigar - 1] - 30)\n",
        "\n",
        "print(\"--Creando las colmenas en el Valle Floral--\")\n",
        "\n",
        "colmenas = [100, 75, 120, 90, 150]\n",
        "\n",
        "while True:\n",
        "\n",
        "mostrar(colmenas)\n",
        "\n",
        "print(\"--Opciones--\")\n",
        "\n",
        "print(\"1) Fumigar una colmena\")\n",
        "\n",
        "action = int(input())\n",
        "\n",
        "if action == 1:\n",
        "\n",
        "fumigar(colmenas)\n",
        "\n",
        "Ustedes deben copiar el código anterior en Colab y probarlo. Léalo en detalle, analícelo y luego ejecute el código, haga pruebas con él y su misión en esta primera etapa es familiarizarse con la lógica del mismo Mire con qué cantidad de zombies arranca cada ciudad en el juego.\n",
        "\n",
        "B) Explicación del código: Desarrollo del Código: El código actual incluye una función para mostrar el estado de las colmenas y otra para fumigar una colmena específica. Cada fumigación disminuye en 30 el número de abejas en la colmena seleccionada. El código también contiene una lista que representa el número de abejas en cada colmena al inicio del juego.\n",
        "\n",
        "Actividad 1 (Modificar creación de colmenas): Modifica el código para que el usuario pueda ingresar la cantidad de abejas en cada colmena al inicio del juego.\n",
        "\n",
        "Actividad 2 (Mejora de visualización): Cambia la forma en que se muestra el estado de las colmenas. En lugar de simplemente listar el número de abejas en cada colmena, muestra la información en una cuadrícula como la siguiente:\n",
        "\n",
        "-------------------------------------------\n",
        "Colmena 1: 100 | Colmena 2: 75\n",
        "-------------------------------------------\n",
        "Colmena 3: 120 | Colmena 4: 90\n",
        "-------------------------------------------\n",
        "Colmena 5: 150\n",
        "-------------------------------------------\n",
        "Actividad 3 (Fumigación segura): Modifica la función de fumigación para asegurarte de que la cantidad de abejas en una colmena nunca se vuelva negativa. Si después de la fumigación el número de abejas es negativo, cámbialo a 0.\n",
        "\n",
        "Actividad 4 (Introducción de Pesticidas Naturales): Agrega una nueva acción al juego que permita aplicar pesticidas naturales a todas las colmenas. Esto debería aumentar el número de abejas en cada colmena en un 10%.\n",
        "\n",
        "Actividad 5 (Rescate de la Reina): Introduce una nueva acción que permita al jugador rescatar a una reina especial de las abejas. Al rescatarla, todas las colmenas deben aumentar en 50 abejas.\n",
        "\n",
        "Actividad 6 (Migración de Colmenas): Agrega una nueva acción que simule la migración de algunas abejas entre colmenas. El jugador debe seleccionar dos colmenas y mover un número de abejas (ingresado por el jugador) de una colmena a otra.\n",
        "\n",
        "Actividad 7 (Mensaje de Victoria): Finaliza el juego con un mensaje de victoria si todas las colmenas tienen al menos 200 abejas. Muestra un mensaje \"¡Felicidades! Has salvado a las abejas del Valle Floral.\""
      ],
      "metadata": {
        "id": "b1GBxFDHERts"
      }
    },
    {
      "cell_type": "markdown",
      "metadata": {
        "id": "8ZOjn1XDtqnx"
      },
      "source": [
        "**Actividad 1** (Modificar creación de colmenas)."
      ]
    },
    {
      "cell_type": "code",
      "source": [
        "colmenas = []\n",
        "i = 0\n",
        "for i in range(5):\n",
        "  abejas = int(input(f\"Ingrese el número de abejas en la colmena {i+1}: \"))\n",
        "  colmenas.append(abejas)"
      ],
      "metadata": {
        "colab": {
          "base_uri": "https://localhost:8080/"
        },
        "id": "1pSqvM4nDUkg",
        "outputId": "61a53cea-1555-419c-a218-602caf9e610e"
      },
      "execution_count": null,
      "outputs": [
        {
          "name": "stdout",
          "output_type": "stream",
          "text": [
            "Ingrese el número de abejas en la colmena 1: 1\n",
            "Ingrese el número de abejas en la colmena 2: 2\n",
            "Ingrese el número de abejas en la colmena 3: 3\n",
            "Ingrese el número de abejas en la colmena 4: 4\n",
            "Ingrese el número de abejas en la colmena 5: 5\n"
          ]
        }
      ]
    },
    {
      "cell_type": "markdown",
      "metadata": {
        "id": "X3nmOzR6vfdA"
      },
      "source": [
        "**Actividad 2** (Mejora de visualización)."
      ]
    },
    {
      "cell_type": "code",
      "execution_count": null,
      "metadata": {
        "colab": {
          "base_uri": "https://localhost:8080/"
        },
        "id": "APOjJ4LjvzMD",
        "outputId": "989056db-a3ce-4334-a643-94ce0129264b"
      },
      "outputs": [
        {
          "output_type": "stream",
          "name": "stdout",
          "text": [
            "---------------------------------------------\n",
            "Colmena 1 : 2 abejas | Colmena 2 : 3 abejas\n",
            "---------------------------------------------\n",
            "Colmena 3 : 4 abejas | Colmena 4 : 1 abejas\n",
            "---------------------------------------------\n",
            "Colmena 5 : 2 abejas\n",
            "---------------------------------------------\n"
          ]
        }
      ],
      "source": [
        "for i in range(len(colmenas)):\n",
        "  if i%2!=0:\n",
        "    print(\"-\"*45)\n",
        "    print(f\"Colmena {i} : {colmenas[i-1]} abejas | Colmena {i+1} : {colmenas[i]} abejas\")\n",
        "print(\"-\"* 45)\n",
        "print(f\"Colmena 5 : {colmenas[-1]} abejas\")\n",
        "print(\"-\"*45)"
      ]
    },
    {
      "cell_type": "markdown",
      "metadata": {
        "id": "6p0H-uj-8ozn"
      },
      "source": [
        "**Actividad 3 **(Fumigación segura)."
      ]
    },
    {
      "cell_type": "code",
      "source": [
        "def fumigar(colmenas):\n",
        "  colmenaAFumigar = int(input(\"Ingrese el número de la colmena a fumigar (1,2,3...)):\"))\n",
        "  colmenas[colmenaAFumigar - 1] = max(0, colmenas[colmenaAFumigar - 1] - 30)\n",
        "  return colmenas"
      ],
      "metadata": {
        "id": "Y-LnqtWSj9sZ"
      },
      "execution_count": null,
      "outputs": []
    },
    {
      "cell_type": "markdown",
      "metadata": {
        "id": "GEH3lvDr8tU4"
      },
      "source": [
        "**Actividad 4 **(Introducción de Pesticidas Naturales)."
      ]
    },
    {
      "cell_type": "code",
      "execution_count": null,
      "metadata": {
        "id": "RCLEMMj7Asvp"
      },
      "outputs": [],
      "source": [
        "import numpy as np\n",
        "\n",
        "def pesticidas(colmenas):\n",
        "  colmenas = np.array(colmenas)\n",
        "  colmenas = colmenas + colmenas*0.1\n",
        "  return colmenas"
      ]
    },
    {
      "cell_type": "markdown",
      "source": [
        "**Actividad 5 **(Rescate de la Reina).\n"
      ],
      "metadata": {
        "id": "rirAgDNIw-SH"
      }
    },
    {
      "cell_type": "code",
      "source": [
        "import numpy as np\n",
        "\n",
        "def rescate_reina(colmenas):\n",
        "  colmenas = np.array(colmenas)\n",
        "  colmenas = colmenas + 50\n",
        "  return colmenas"
      ],
      "metadata": {
        "id": "pJhlFmVVxPpD"
      },
      "execution_count": null,
      "outputs": []
    },
    {
      "cell_type": "markdown",
      "source": [
        "**Actividad 6** (Migración de Colmenas)."
      ],
      "metadata": {
        "id": "ND9UH6TaxB79"
      }
    },
    {
      "cell_type": "code",
      "source": [
        "def migracion(colmenas):\n",
        "  colmena1 = int(input(\"Ingrese la colmena a la cual le va a extraer abejas (1,2,3...): \"))\n",
        "  colmena2 = int(input(\"Ingrese la colmena a la cual le va a introducir abejas (1,2,3...): \"))\n",
        "  num_abejas = int(input(\"Ingrese el número de abejas a movilizar: \"))\n",
        "  colmenas[colmena1-1] = colmenas[colmena1-1] - num_abejas\n",
        "  colmenas[colmena2-1] = colmenas[colmena2-1] + num_abejas\n",
        "  return colmenas"
      ],
      "metadata": {
        "id": "xnix8XjmEMbo"
      },
      "execution_count": null,
      "outputs": []
    },
    {
      "cell_type": "markdown",
      "source": [
        "**Actividad 7 **(Mensaje de Victoria)."
      ],
      "metadata": {
        "id": "qPcAMpQpxFTT"
      }
    },
    {
      "cell_type": "code",
      "source": [
        "if min(colmenas)>=200:\n",
        "  print(\"¡Felicidades! Has salvado a las abejas del Valle Floral.\")"
      ],
      "metadata": {
        "id": "5bnQr1PoF5as",
        "colab": {
          "base_uri": "https://localhost:8080/"
        },
        "outputId": "45991356-9325-4bbe-d0a5-9576c2b7b305"
      },
      "execution_count": null,
      "outputs": [
        {
          "output_type": "stream",
          "name": "stdout",
          "text": [
            "¡Felicidades! Has salvado a las abejas del Valle Floral.\n"
          ]
        }
      ]
    },
    {
      "cell_type": "markdown",
      "source": [
        "**CODIGO FINAL**"
      ],
      "metadata": {
        "id": "vRh2xoUSEXHu"
      }
    },
    {
      "cell_type": "code",
      "source": [
        "#Libreria utilizada\n",
        "import numpy as np"
      ],
      "metadata": {
        "id": "MAn19p4UEpKi"
      },
      "execution_count": null,
      "outputs": []
    },
    {
      "cell_type": "code",
      "source": [
        "#FUNCIONES\n",
        "\n",
        "\"\"\"Estas diferentes estrategias representadas como funciones nos permiten controlar\n",
        "la propagación de los escarabajos de las colmenas y salvar a las abejas del Valle Floral.\"\"\"\n",
        "\n",
        "#La función nos permite observar el estado de la colmenas en un orden específico.\n",
        "def mostrar(colmenas):\n",
        "  for i in range(len(colmenas)):\n",
        "    if i%2!=0:\n",
        "      print(\"-\"*45)\n",
        "      print(f\"Colmena {i} : {colmenas[i-1]} abejas | Colmena {i+1} : {colmenas[i]} abejas\")\n",
        "  print(\"-\"*45)\n",
        "  print(f\"Colmena 5 : {colmenas[-1]} abejas\")\n",
        "  print(\"-\"*45)\n",
        "\n",
        "#La función fumigar nos indica la colmena específica a fumigar, sin que esta sea negativa.\n",
        "def fumigar(colmenas):\n",
        "  colmenaAFumigar = int(input(\"Ingrese el número de la colmena a fumigar (1,2,3...)):\"))\n",
        "  colmenas[colmenaAFumigar - 1] = max(0, colmenas[colmenaAFumigar - 1] - 30)\n",
        "  return colmenas\n",
        "\n",
        "#La función nos permite aplicar pestidcidas a todas las colmenas, aumentando en 10%.\n",
        "def pesticidas(colmenas):\n",
        "  colmenas = np.array(colmenas)\n",
        "  colmenas = colmenas + colmenas*0.1\n",
        "  return colmenas\n",
        "\n",
        "#La función rescata a una reina especial de las abejas, aumentando las colmenas con 50 abejas.\n",
        "def rescate_reina(colmenas):\n",
        "  colmenas = np.array(colmenas)\n",
        "  colmenas = colmenas + 50\n",
        "  return colmenas\n",
        "\n",
        "#La función establece la migración de cierto número abejas entre dos colmenas.\n",
        "def migracion(colmenas):\n",
        "  colmena1 = int(input(\"Ingrese la colmena a la cual le va a extraer abejas (1,2,3...): \"))\n",
        "  colmena2 = int(input(\"Ingrese la colmena a la cual le va a introducir abejas (1,2,3...): \"))\n",
        "  num_abejas = int(input(\"Ingrese el número de abejas a movilizar: \"))\n",
        "  colmenas[colmena1-1] = colmenas[colmena1-1] - num_abejas\n",
        "  colmenas[colmena2-1] = colmenas[colmena2-1] + num_abejas\n",
        "  return colmenas"
      ],
      "metadata": {
        "id": "LJVMd-auEmnM"
      },
      "execution_count": null,
      "outputs": []
    },
    {
      "cell_type": "code",
      "source": [
        "#CÓDIGO DE JUEGO\n",
        "\n",
        "\"\"\"Por medio de este código podemos integrar las funciones anteriores con el fin de\n",
        "cumplir un objetivo: La creación de un simulador que permita experimentar dichas estrategias\n",
        "y rescatar a las Abejas del Valle Floral.\"\"\"\n",
        "\n",
        "colmenas = []\n",
        "for i in range(5):\n",
        "  abejas = int(input(f\"Ingrese el número de abejas en la colmena {i+1}:\"))\n",
        "  colmenas.append(abejas)\n",
        "print(\"--Creando las colmenas en el Valle Floral--\")\n",
        "\n",
        "booleano = True\n",
        "while booleano:\n",
        "  mostrar(colmenas)\n",
        "  print(\"--Opciones--\")\n",
        "  print(\"1) Fumigar una colmena\")\n",
        "  print(\"2) Pesticidas a una colmena\")\n",
        "  print(\"3) Rescate a una reina especial de las abejas\")\n",
        "  print(\"4) Migración de algunas abejas entre colmenas\")\n",
        "\n",
        "  action = int(input())\n",
        "  if action == 1:\n",
        "    fumigar(colmenas)\n",
        "\n",
        "  if action == 2:\n",
        "    colmenas = pesticidas(colmenas)\n",
        "\n",
        "  if action == 3:\n",
        "    colmenas = rescate_reina(colmenas)\n",
        "\n",
        "  if action == 4:\n",
        "    colmenas = migracion(colmenas)\n",
        "\n",
        "  if min(colmenas)>=200:\n",
        "    mostrar(colmenas)\n",
        "    booleano = False\n",
        "    print(\"¡Felicidades! Has salvado a las abejas del Valle Floral.\")"
      ],
      "metadata": {
        "colab": {
          "base_uri": "https://localhost:8080/"
        },
        "id": "PYBD-HwNMlM0",
        "outputId": "49309f15-974b-42af-ce03-88f9dbc747ca"
      },
      "execution_count": null,
      "outputs": [
        {
          "output_type": "stream",
          "name": "stdout",
          "text": [
            "Ingrese el número de abejas en la colmena 1:255\n",
            "Ingrese el número de abejas en la colmena 2:321\n",
            "Ingrese el número de abejas en la colmena 3:14\n",
            "Ingrese el número de abejas en la colmena 4:35\n",
            "Ingrese el número de abejas en la colmena 5:54\n",
            "--Creando las colmenas en el Valle Floral--\n",
            "---------------------------------------------\n",
            "Colmena 1 : 255 abejas | Colmena 2 : 321 abejas\n",
            "---------------------------------------------\n",
            "Colmena 3 : 14 abejas | Colmena 4 : 35 abejas\n",
            "---------------------------------------------\n",
            "Colmena 5 : 54 abejas\n",
            "---------------------------------------------\n",
            "--Opciones--\n",
            "1) Fumigar una colmena\n",
            "2) Pesticidas a una colmena\n",
            "3) Rescate a una reina especial de las abejas\n",
            "4) Migración de algunas abejas entre colmenas\n",
            "1\n",
            "Ingrese el número de la colmena a fumigar (1,2,3...)):2\n",
            "---------------------------------------------\n",
            "Colmena 1 : 255 abejas | Colmena 2 : 291 abejas\n",
            "---------------------------------------------\n",
            "Colmena 3 : 14 abejas | Colmena 4 : 35 abejas\n",
            "---------------------------------------------\n",
            "Colmena 5 : 54 abejas\n",
            "---------------------------------------------\n",
            "--Opciones--\n",
            "1) Fumigar una colmena\n",
            "2) Pesticidas a una colmena\n",
            "3) Rescate a una reina especial de las abejas\n",
            "4) Migración de algunas abejas entre colmenas\n",
            "3\n",
            "---------------------------------------------\n",
            "Colmena 1 : 305 abejas | Colmena 2 : 341 abejas\n",
            "---------------------------------------------\n",
            "Colmena 3 : 64 abejas | Colmena 4 : 85 abejas\n",
            "---------------------------------------------\n",
            "Colmena 5 : 104 abejas\n",
            "---------------------------------------------\n",
            "--Opciones--\n",
            "1) Fumigar una colmena\n",
            "2) Pesticidas a una colmena\n",
            "3) Rescate a una reina especial de las abejas\n",
            "4) Migración de algunas abejas entre colmenas\n",
            "3\n",
            "---------------------------------------------\n",
            "Colmena 1 : 355 abejas | Colmena 2 : 391 abejas\n",
            "---------------------------------------------\n",
            "Colmena 3 : 114 abejas | Colmena 4 : 135 abejas\n",
            "---------------------------------------------\n",
            "Colmena 5 : 154 abejas\n",
            "---------------------------------------------\n",
            "--Opciones--\n",
            "1) Fumigar una colmena\n",
            "2) Pesticidas a una colmena\n",
            "3) Rescate a una reina especial de las abejas\n",
            "4) Migración de algunas abejas entre colmenas\n",
            "3\n",
            "---------------------------------------------\n",
            "Colmena 1 : 405 abejas | Colmena 2 : 441 abejas\n",
            "---------------------------------------------\n",
            "Colmena 3 : 164 abejas | Colmena 4 : 185 abejas\n",
            "---------------------------------------------\n",
            "Colmena 5 : 204 abejas\n",
            "---------------------------------------------\n",
            "--Opciones--\n",
            "1) Fumigar una colmena\n",
            "2) Pesticidas a una colmena\n",
            "3) Rescate a una reina especial de las abejas\n",
            "4) Migración de algunas abejas entre colmenas\n",
            "4\n",
            "Ingrese la colmena a la cual le va a extraer abejas (1,2,3...): 4\n",
            "Ingrese la colmena a la cual le va a introducir abejas (1,2,3...): 2\n",
            "Ingrese el número de abejas a movilizar: 55\n",
            "---------------------------------------------\n",
            "Colmena 1 : 405 abejas | Colmena 2 : 496 abejas\n",
            "---------------------------------------------\n",
            "Colmena 3 : 164 abejas | Colmena 4 : 130 abejas\n",
            "---------------------------------------------\n",
            "Colmena 5 : 204 abejas\n",
            "---------------------------------------------\n",
            "--Opciones--\n",
            "1) Fumigar una colmena\n",
            "2) Pesticidas a una colmena\n",
            "3) Rescate a una reina especial de las abejas\n",
            "4) Migración de algunas abejas entre colmenas\n",
            "3\n",
            "---------------------------------------------\n",
            "Colmena 1 : 455 abejas | Colmena 2 : 546 abejas\n",
            "---------------------------------------------\n",
            "Colmena 3 : 214 abejas | Colmena 4 : 180 abejas\n",
            "---------------------------------------------\n",
            "Colmena 5 : 254 abejas\n",
            "---------------------------------------------\n",
            "--Opciones--\n",
            "1) Fumigar una colmena\n",
            "2) Pesticidas a una colmena\n",
            "3) Rescate a una reina especial de las abejas\n",
            "4) Migración de algunas abejas entre colmenas\n",
            "3\n",
            "---------------------------------------------\n",
            "Colmena 1 : 505 abejas | Colmena 2 : 596 abejas\n",
            "---------------------------------------------\n",
            "Colmena 3 : 264 abejas | Colmena 4 : 230 abejas\n",
            "---------------------------------------------\n",
            "Colmena 5 : 304 abejas\n",
            "---------------------------------------------\n",
            "¡Felicidades! Has salvado a las abejas del Valle Floral.\n"
          ]
        }
      ]
    }
  ],
  "metadata": {
    "colab": {
      "provenance": [],
      "include_colab_link": true
    },
    "kernelspec": {
      "display_name": "Python 3",
      "name": "python3"
    },
    "language_info": {
      "name": "python"
    }
  },
  "nbformat": 4,
  "nbformat_minor": 0
}